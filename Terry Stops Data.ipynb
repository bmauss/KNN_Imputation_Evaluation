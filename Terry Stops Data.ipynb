{
 "cells": [
  {
   "cell_type": "markdown",
   "metadata": {},
   "source": [
    "# KNN Imputation: Terry Stops Dataset\n",
    "\n",
    "Now we're going to work on seeing how well KNN Imputation works on a dataset that is composed mostly of categorical data."
   ]
  },
  {
   "cell_type": "code",
   "execution_count": 1,
   "metadata": {
    "ExecuteTime": {
     "end_time": "2021-01-05T13:54:57.842157Z",
     "start_time": "2021-01-05T13:54:45.247087Z"
    }
   },
   "outputs": [],
   "source": [
    "import warnings\n",
    "warnings.filterwarnings('ignore')\n",
    "import pandas as pd\n",
    "import numpy as np\n",
    "import matplotlib.pyplot as plt\n",
    "import seaborn as sns"
   ]
  },
  {
   "cell_type": "code",
   "execution_count": 2,
   "metadata": {
    "ExecuteTime": {
     "end_time": "2021-01-05T13:54:58.572095Z",
     "start_time": "2021-01-05T13:54:57.846129Z"
    }
   },
   "outputs": [
    {
     "data": {
      "text/html": [
       "<div>\n",
       "<style scoped>\n",
       "    .dataframe tbody tr th:only-of-type {\n",
       "        vertical-align: middle;\n",
       "    }\n",
       "\n",
       "    .dataframe tbody tr th {\n",
       "        vertical-align: top;\n",
       "    }\n",
       "\n",
       "    .dataframe thead th {\n",
       "        text-align: right;\n",
       "    }\n",
       "</style>\n",
       "<table border=\"1\" class=\"dataframe\">\n",
       "  <thead>\n",
       "    <tr style=\"text-align: right;\">\n",
       "      <th></th>\n",
       "      <th>subject_age_group</th>\n",
       "      <th>subject_id</th>\n",
       "      <th>go_sc_num</th>\n",
       "      <th>terry_stop_id</th>\n",
       "      <th>stop_resolution</th>\n",
       "      <th>weapon_type</th>\n",
       "      <th>officer_id</th>\n",
       "      <th>officer_gender</th>\n",
       "      <th>officer_race</th>\n",
       "      <th>subject_perceived_race</th>\n",
       "      <th>...</th>\n",
       "      <th>officer_age</th>\n",
       "      <th>field_contact</th>\n",
       "      <th>offense_report</th>\n",
       "      <th>dif_race</th>\n",
       "      <th>dif_gender</th>\n",
       "      <th>dif_race_gender</th>\n",
       "      <th>12am_6am</th>\n",
       "      <th>7am_12pm</th>\n",
       "      <th>1pm_6pm</th>\n",
       "      <th>7pm_11pm</th>\n",
       "    </tr>\n",
       "  </thead>\n",
       "  <tbody>\n",
       "    <tr>\n",
       "      <th>0</th>\n",
       "      <td>Unknown</td>\n",
       "      <td>unassigned</td>\n",
       "      <td>20150000110760</td>\n",
       "      <td>33273</td>\n",
       "      <td>Offense Report</td>\n",
       "      <td>None</td>\n",
       "      <td>6355</td>\n",
       "      <td>F</td>\n",
       "      <td>White</td>\n",
       "      <td>White</td>\n",
       "      <td>...</td>\n",
       "      <td>45</td>\n",
       "      <td>n</td>\n",
       "      <td>y</td>\n",
       "      <td>N</td>\n",
       "      <td>N</td>\n",
       "      <td>Y</td>\n",
       "      <td>0</td>\n",
       "      <td>1</td>\n",
       "      <td>0</td>\n",
       "      <td>0</td>\n",
       "    </tr>\n",
       "    <tr>\n",
       "      <th>1</th>\n",
       "      <td>Unknown</td>\n",
       "      <td>unassigned</td>\n",
       "      <td>20150000110760</td>\n",
       "      <td>33274</td>\n",
       "      <td>Offense Report</td>\n",
       "      <td>None</td>\n",
       "      <td>6355</td>\n",
       "      <td>F</td>\n",
       "      <td>White</td>\n",
       "      <td>White</td>\n",
       "      <td>...</td>\n",
       "      <td>45</td>\n",
       "      <td>n</td>\n",
       "      <td>y</td>\n",
       "      <td>N</td>\n",
       "      <td>Y</td>\n",
       "      <td>Y</td>\n",
       "      <td>0</td>\n",
       "      <td>1</td>\n",
       "      <td>0</td>\n",
       "      <td>0</td>\n",
       "    </tr>\n",
       "    <tr>\n",
       "      <th>2</th>\n",
       "      <td>Unknown</td>\n",
       "      <td>unassigned</td>\n",
       "      <td>20150000120532</td>\n",
       "      <td>35462</td>\n",
       "      <td>Arrest</td>\n",
       "      <td>None</td>\n",
       "      <td>7735</td>\n",
       "      <td>M</td>\n",
       "      <td>White</td>\n",
       "      <td>Not Specified</td>\n",
       "      <td>...</td>\n",
       "      <td>24</td>\n",
       "      <td>n</td>\n",
       "      <td>n</td>\n",
       "      <td>Y</td>\n",
       "      <td>Y</td>\n",
       "      <td>Y</td>\n",
       "      <td>0</td>\n",
       "      <td>0</td>\n",
       "      <td>1</td>\n",
       "      <td>0</td>\n",
       "    </tr>\n",
       "    <tr>\n",
       "      <th>3</th>\n",
       "      <td>Unknown</td>\n",
       "      <td>unassigned</td>\n",
       "      <td>20150000127841</td>\n",
       "      <td>36993</td>\n",
       "      <td>Offense Report</td>\n",
       "      <td>None</td>\n",
       "      <td>7474</td>\n",
       "      <td>F</td>\n",
       "      <td>White</td>\n",
       "      <td>Not Specified</td>\n",
       "      <td>...</td>\n",
       "      <td>46</td>\n",
       "      <td>n</td>\n",
       "      <td>y</td>\n",
       "      <td>Y</td>\n",
       "      <td>Y</td>\n",
       "      <td>Y</td>\n",
       "      <td>0</td>\n",
       "      <td>0</td>\n",
       "      <td>1</td>\n",
       "      <td>0</td>\n",
       "    </tr>\n",
       "    <tr>\n",
       "      <th>4</th>\n",
       "      <td>Unknown</td>\n",
       "      <td>unassigned</td>\n",
       "      <td>20150000145811</td>\n",
       "      <td>41041</td>\n",
       "      <td>Arrest</td>\n",
       "      <td>None</td>\n",
       "      <td>4835</td>\n",
       "      <td>M</td>\n",
       "      <td>White</td>\n",
       "      <td>Not Specified</td>\n",
       "      <td>...</td>\n",
       "      <td>56</td>\n",
       "      <td>n</td>\n",
       "      <td>n</td>\n",
       "      <td>Y</td>\n",
       "      <td>N</td>\n",
       "      <td>Y</td>\n",
       "      <td>0</td>\n",
       "      <td>0</td>\n",
       "      <td>1</td>\n",
       "      <td>0</td>\n",
       "    </tr>\n",
       "  </tbody>\n",
       "</table>\n",
       "<p>5 rows × 32 columns</p>\n",
       "</div>"
      ],
      "text/plain": [
       "  subject_age_group  subject_id       go_sc_num  terry_stop_id  \\\n",
       "0           Unknown  unassigned  20150000110760          33273   \n",
       "1           Unknown  unassigned  20150000110760          33274   \n",
       "2           Unknown  unassigned  20150000120532          35462   \n",
       "3           Unknown  unassigned  20150000127841          36993   \n",
       "4           Unknown  unassigned  20150000145811          41041   \n",
       "\n",
       "  stop_resolution weapon_type  officer_id officer_gender officer_race  \\\n",
       "0  Offense Report        None        6355              F        White   \n",
       "1  Offense Report        None        6355              F        White   \n",
       "2          Arrest        None        7735              M        White   \n",
       "3  Offense Report        None        7474              F        White   \n",
       "4          Arrest        None        4835              M        White   \n",
       "\n",
       "  subject_perceived_race  ... officer_age field_contact offense_report  \\\n",
       "0                  White  ...          45             n              y   \n",
       "1                  White  ...          45             n              y   \n",
       "2          Not Specified  ...          24             n              n   \n",
       "3          Not Specified  ...          46             n              y   \n",
       "4          Not Specified  ...          56             n              n   \n",
       "\n",
       "  dif_race dif_gender dif_race_gender 12am_6am 7am_12pm 1pm_6pm 7pm_11pm  \n",
       "0        N          N               Y        0        1       0        0  \n",
       "1        N          Y               Y        0        1       0        0  \n",
       "2        Y          Y               Y        0        0       1        0  \n",
       "3        Y          Y               Y        0        0       1        0  \n",
       "4        Y          N               Y        0        0       1        0  \n",
       "\n",
       "[5 rows x 32 columns]"
      ]
     },
     "execution_count": 2,
     "metadata": {},
     "output_type": "execute_result"
    }
   ],
   "source": [
    "t_stops = pd.read_csv('datasets/terry_stops/eda_clean.csv')\n",
    "t_stops = t_stops.drop('Unnamed: 0', axis=1)\n",
    "t_stops.head()"
   ]
  },
  {
   "cell_type": "markdown",
   "metadata": {},
   "source": [
    "# Preprocessing\n",
    "Need to drop unusable columns such as unique IDs."
   ]
  },
  {
   "cell_type": "code",
   "execution_count": 3,
   "metadata": {
    "ExecuteTime": {
     "end_time": "2021-01-05T13:54:58.717995Z",
     "start_time": "2021-01-05T13:54:58.575093Z"
    }
   },
   "outputs": [
    {
     "name": "stdout",
     "output_type": "stream",
     "text": [
      "<class 'pandas.core.frame.DataFrame'>\n",
      "RangeIndex: 30364 entries, 0 to 30363\n",
      "Data columns (total 28 columns):\n",
      " #   Column                    Non-Null Count  Dtype \n",
      "---  ------                    --------------  ----- \n",
      " 0   subject_age_group         30364 non-null  object\n",
      " 1   stop_resolution           30364 non-null  object\n",
      " 2   weapon_type               30364 non-null  object\n",
      " 3   officer_gender            30364 non-null  object\n",
      " 4   officer_race              30364 non-null  object\n",
      " 5   subject_perceived_race    30364 non-null  object\n",
      " 6   subject_perceived_gender  30364 non-null  object\n",
      " 7   initial_call_type         30364 non-null  object\n",
      " 8   final_call_type           30364 non-null  object\n",
      " 9   call_type                 30364 non-null  object\n",
      " 10  arrest_flag               30364 non-null  object\n",
      " 11  frisk_flag                30364 non-null  object\n",
      " 12  precinct                  30364 non-null  object\n",
      " 13  sector                    30364 non-null  object\n",
      " 14  beat                      30364 non-null  object\n",
      " 15  repeat_offenders          30364 non-null  object\n",
      " 16  incident_year             30364 non-null  int64 \n",
      " 17  incident_month            30364 non-null  int64 \n",
      " 18  officer_age               30364 non-null  int64 \n",
      " 19  field_contact             30364 non-null  object\n",
      " 20  offense_report            30364 non-null  object\n",
      " 21  dif_race                  30364 non-null  object\n",
      " 22  dif_gender                30364 non-null  object\n",
      " 23  dif_race_gender           30364 non-null  object\n",
      " 24  12am_6am                  30364 non-null  int64 \n",
      " 25  7am_12pm                  30364 non-null  int64 \n",
      " 26  1pm_6pm                   30364 non-null  int64 \n",
      " 27  7pm_11pm                  30364 non-null  int64 \n",
      "dtypes: int64(7), object(21)\n",
      "memory usage: 6.5+ MB\n"
     ]
    }
   ],
   "source": [
    "t_stops = t_stops.drop(['subject_id', 'go_sc_num', 'terry_stop_id', \n",
    "                        'officer_id'], axis=1)\n",
    "t_stops.info()"
   ]
  },
  {
   "cell_type": "code",
   "execution_count": 4,
   "metadata": {
    "ExecuteTime": {
     "end_time": "2021-01-05T13:54:58.758959Z",
     "start_time": "2021-01-05T13:54:58.719981Z"
    }
   },
   "outputs": [],
   "source": [
    "# Create experiment copy\n",
    "stops_exp = t_stops.copy()"
   ]
  }
 ],
 "metadata": {
  "kernelspec": {
   "display_name": "Python [conda env:learn-env] *",
   "language": "python",
   "name": "conda-env-learn-env-py"
  },
  "language_info": {
   "codemirror_mode": {
    "name": "ipython",
    "version": 3
   },
   "file_extension": ".py",
   "mimetype": "text/x-python",
   "name": "python",
   "nbconvert_exporter": "python",
   "pygments_lexer": "ipython3",
   "version": "3.6.12"
  },
  "toc": {
   "base_numbering": 1,
   "nav_menu": {},
   "number_sections": true,
   "sideBar": true,
   "skip_h1_title": false,
   "title_cell": "Table of Contents",
   "title_sidebar": "Contents",
   "toc_cell": false,
   "toc_position": {},
   "toc_section_display": true,
   "toc_window_display": false
  },
  "varInspector": {
   "cols": {
    "lenName": 16,
    "lenType": 16,
    "lenVar": 40
   },
   "kernels_config": {
    "python": {
     "delete_cmd_postfix": "",
     "delete_cmd_prefix": "del ",
     "library": "var_list.py",
     "varRefreshCmd": "print(var_dic_list())"
    },
    "r": {
     "delete_cmd_postfix": ") ",
     "delete_cmd_prefix": "rm(",
     "library": "var_list.r",
     "varRefreshCmd": "cat(var_dic_list()) "
    }
   },
   "types_to_exclude": [
    "module",
    "function",
    "builtin_function_or_method",
    "instance",
    "_Feature"
   ],
   "window_display": false
  }
 },
 "nbformat": 4,
 "nbformat_minor": 4
}
