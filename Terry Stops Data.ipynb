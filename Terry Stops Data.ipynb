{
 "cells": [
  {
   "cell_type": "markdown",
   "metadata": {},
   "source": [
    "# KNN Imputation: Terry Stops Dataset\n",
    "\n",
    "Now we're going to work on seeing how well KNN Imputation works on a dataset that is composed mostly of categorical data."
   ]
  },
  {
   "cell_type": "code",
   "execution_count": 1,
   "metadata": {
    "ExecuteTime": {
     "end_time": "2021-01-04T14:21:59.709789Z",
     "start_time": "2021-01-04T14:21:40.800486Z"
    }
   },
   "outputs": [],
   "source": [
    "import warnings\n",
    "warnings.filterwarnings('ignore')\n",
    "import pandas as pd\n",
    "import numpy as np\n",
    "import matplotlib.pyplot as plt\n",
    "import seaborn as sns"
   ]
  },
  {
   "cell_type": "code",
   "execution_count": 2,
   "metadata": {
    "ExecuteTime": {
     "end_time": "2021-01-04T14:22:00.133795Z",
     "start_time": "2021-01-04T14:21:59.717786Z"
    }
   },
   "outputs": [
    {
     "name": "stdout",
     "output_type": "stream",
     "text": [
      "<class 'pandas.core.frame.DataFrame'>\n",
      "RangeIndex: 30364 entries, 0 to 30363\n",
      "Data columns (total 32 columns):\n",
      " #   Column                    Non-Null Count  Dtype \n",
      "---  ------                    --------------  ----- \n",
      " 0   subject_age_group         30364 non-null  object\n",
      " 1   subject_id                30364 non-null  object\n",
      " 2   go_sc_num                 30364 non-null  int64 \n",
      " 3   terry_stop_id             30364 non-null  int64 \n",
      " 4   stop_resolution           30364 non-null  object\n",
      " 5   weapon_type               30364 non-null  object\n",
      " 6   officer_id                30364 non-null  int64 \n",
      " 7   officer_gender            30364 non-null  object\n",
      " 8   officer_race              30364 non-null  object\n",
      " 9   subject_perceived_race    30364 non-null  object\n",
      " 10  subject_perceived_gender  30364 non-null  object\n",
      " 11  initial_call_type         30364 non-null  object\n",
      " 12  final_call_type           30364 non-null  object\n",
      " 13  call_type                 30364 non-null  object\n",
      " 14  arrest_flag               30364 non-null  object\n",
      " 15  frisk_flag                30364 non-null  object\n",
      " 16  precinct                  30364 non-null  object\n",
      " 17  sector                    30364 non-null  object\n",
      " 18  beat                      30364 non-null  object\n",
      " 19  repeat_offenders          30364 non-null  object\n",
      " 20  incident_year             30364 non-null  int64 \n",
      " 21  incident_month            30364 non-null  int64 \n",
      " 22  officer_age               30364 non-null  int64 \n",
      " 23  field_contact             30364 non-null  object\n",
      " 24  offense_report            30364 non-null  object\n",
      " 25  dif_race                  30364 non-null  object\n",
      " 26  dif_gender                30364 non-null  object\n",
      " 27  dif_race_gender           30364 non-null  object\n",
      " 28  12am_6am                  30364 non-null  int64 \n",
      " 29  7am_12pm                  30364 non-null  int64 \n",
      " 30  1pm_6pm                   30364 non-null  int64 \n",
      " 31  7pm_11pm                  30364 non-null  int64 \n",
      "dtypes: int64(10), object(22)\n",
      "memory usage: 7.4+ MB\n"
     ]
    }
   ],
   "source": [
    "t_stops = pd.read_csv('datasets/terry_stops/eda_clean.csv')\n",
    "t_stops = t_stops.drop('Unnamed: 0', axis=1)\n",
    "t_stops.head()"
   ]
  },
  {
   "cell_type": "markdown",
   "metadata": {},
   "source": [
    "# Preprocessing\n",
    "Need to drop unusable columns such as unique IDs."
   ]
  },
  {
   "cell_type": "code",
   "execution_count": 3,
   "metadata": {
    "ExecuteTime": {
     "end_time": "2021-01-04T14:29:08.379803Z",
     "start_time": "2021-01-04T14:29:08.336826Z"
    }
   },
   "outputs": [
    {
     "name": "stdout",
     "output_type": "stream",
     "text": [
      "<class 'pandas.core.frame.DataFrame'>\n",
      "RangeIndex: 30364 entries, 0 to 30363\n",
      "Data columns (total 28 columns):\n",
      " #   Column                    Non-Null Count  Dtype \n",
      "---  ------                    --------------  ----- \n",
      " 0   subject_age_group         30364 non-null  object\n",
      " 1   stop_resolution           30364 non-null  object\n",
      " 2   weapon_type               30364 non-null  object\n",
      " 3   officer_gender            30364 non-null  object\n",
      " 4   officer_race              30364 non-null  object\n",
      " 5   subject_perceived_race    30364 non-null  object\n",
      " 6   subject_perceived_gender  30364 non-null  object\n",
      " 7   initial_call_type         30364 non-null  object\n",
      " 8   final_call_type           30364 non-null  object\n",
      " 9   call_type                 30364 non-null  object\n",
      " 10  arrest_flag               30364 non-null  object\n",
      " 11  frisk_flag                30364 non-null  object\n",
      " 12  precinct                  30364 non-null  object\n",
      " 13  sector                    30364 non-null  object\n",
      " 14  beat                      30364 non-null  object\n",
      " 15  repeat_offenders          30364 non-null  object\n",
      " 16  incident_year             30364 non-null  int64 \n",
      " 17  incident_month            30364 non-null  int64 \n",
      " 18  officer_age               30364 non-null  int64 \n",
      " 19  field_contact             30364 non-null  object\n",
      " 20  offense_report            30364 non-null  object\n",
      " 21  dif_race                  30364 non-null  object\n",
      " 22  dif_gender                30364 non-null  object\n",
      " 23  dif_race_gender           30364 non-null  object\n",
      " 24  12am_6am                  30364 non-null  int64 \n",
      " 25  7am_12pm                  30364 non-null  int64 \n",
      " 26  1pm_6pm                   30364 non-null  int64 \n",
      " 27  7pm_11pm                  30364 non-null  int64 \n",
      "dtypes: int64(7), object(21)\n",
      "memory usage: 6.5+ MB\n"
     ]
    }
   ],
   "source": [
    "t_stops = t_stops.drop(['subject_id', 'go_sc_num', 'terry_stop_id', \n",
    "                        'officer_id'], axis=1)\n",
    "t_stops.info()"
   ]
  },
  {
   "cell_type": "code",
   "execution_count": null,
   "metadata": {},
   "outputs": [],
   "source": []
  }
 ],
 "metadata": {
  "kernelspec": {
   "display_name": "Python [conda env:learn-env] *",
   "language": "python",
   "name": "conda-env-learn-env-py"
  },
  "language_info": {
   "codemirror_mode": {
    "name": "ipython",
    "version": 3
   },
   "file_extension": ".py",
   "mimetype": "text/x-python",
   "name": "python",
   "nbconvert_exporter": "python",
   "pygments_lexer": "ipython3",
   "version": "3.6.12"
  },
  "toc": {
   "base_numbering": 1,
   "nav_menu": {},
   "number_sections": true,
   "sideBar": true,
   "skip_h1_title": false,
   "title_cell": "Table of Contents",
   "title_sidebar": "Contents",
   "toc_cell": false,
   "toc_position": {},
   "toc_section_display": true,
   "toc_window_display": false
  },
  "varInspector": {
   "cols": {
    "lenName": 16,
    "lenType": 16,
    "lenVar": 40
   },
   "kernels_config": {
    "python": {
     "delete_cmd_postfix": "",
     "delete_cmd_prefix": "del ",
     "library": "var_list.py",
     "varRefreshCmd": "print(var_dic_list())"
    },
    "r": {
     "delete_cmd_postfix": ") ",
     "delete_cmd_prefix": "rm(",
     "library": "var_list.r",
     "varRefreshCmd": "cat(var_dic_list()) "
    }
   },
   "types_to_exclude": [
    "module",
    "function",
    "builtin_function_or_method",
    "instance",
    "_Feature"
   ],
   "window_display": false
  }
 },
 "nbformat": 4,
 "nbformat_minor": 4
}
